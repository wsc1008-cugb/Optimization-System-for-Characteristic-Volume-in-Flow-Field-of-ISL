{
 "cells": [
  {
   "cell_type": "code",
   "execution_count": 14,
   "id": "5eb0463e",
   "metadata": {},
   "outputs": [],
   "source": [
    "import sys\n",
    "import os\n",
    "import shutil\n",
    "import glob\n",
    "import random\n",
    "import math\n",
    "from numpy import random\n",
    "import numpy as np\n",
    "import scipy.stats as st\n",
    "import matplotlib as mpl\n",
    "import matplotlib.pyplot as plt\n",
    "import flopy\n",
    "import pandas\n",
    "import struct\n",
    "from collections import Counter\n",
    "import warnings\n",
    "warnings.filterwarnings(\"ignore\", category=DeprecationWarning)"
   ]
  },
  {
   "cell_type": "code",
   "execution_count": 48,
   "id": "ae442d00",
   "metadata": {},
   "outputs": [],
   "source": [
    "'''Input single-objective optimization results'''\n",
    "dir_path_I='D:\\工作需\\R程序计算\\R程序翻译\\单目标敏感性分析\\仅I变'\n",
    "dir_path_J='D:\\工作需\\R程序计算\\R程序翻译\\单目标敏感性分析\\仅J变'\n",
    "dir_path_K='D:\\工作需\\R程序计算\\R程序翻译\\单目标敏感性分析\\仅K变'\n",
    "def read_txt_file(file_path):\n",
    "    calV=[]\n",
    "    with open(file_path, 'r') as obj:\n",
    "        for line in obj.readlines():\n",
    "            calV.append(line)\n",
    "        calV = np.array([line.strip(\"\\n\") for line in calV]).astype(float)\n",
    "    return calV\n",
    "def get_file_names(folder):\n",
    "    file_names=glob.glob(folder+'/*')\n",
    "    return file_names\n",
    "def cal_si(Varr):\n",
    "    si_case=[0,2,4,6,8,10,12,14,16,18]\n",
    "    si_list=[]\n",
    "    for i in si_case:\n",
    "        si=math.sqrt((Varr[i] - Varr[9]) ** 2) / Varr[9]\n",
    "        si_list.append(si)\n",
    "    Si=sum(si_list)/10\n",
    "    return \"{:.3f}\".format(Si)"
   ]
  },
  {
   "cell_type": "code",
   "execution_count": 49,
   "id": "bf9bcf45",
   "metadata": {},
   "outputs": [
    {
     "name": "stdout",
     "output_type": "stream",
     "text": [
      "0.15549999999999997\n"
     ]
    }
   ],
   "source": [
    "'''Conduct sensitivity analysis on the number of particles injected in the three directions I, J, and K of all injection wells.'''\n",
    "data = pandas.read_table(r\"D:\\工作需\\R程序计算\\R程序翻译\\井坐标文件\\注井坐标C13.txt\", sep=\"\\\\s+\").values.tolist()\n",
    "In_wel=np.array(data)\n",
    "case_num=get_file_names(dir_path_J)#改路径\n",
    "save_arr=np.empty((30,2),dtype='U100')\n",
    "sisum=0\n",
    "for i in range(30):\n",
    "    wel_V=read_txt_file(case_num[i])\n",
    "    Si=cal_si(wel_V)\n",
    "    sisum+=float(Si)\n",
    "    save_arr[i,0]=In_wel[2*i,-1]\n",
    "    save_arr[i,1]=Si\n",
    "print(sisum/30)\n",
    "with open(r'D:\\工作需\\R程序计算\\R程序翻译\\单目标敏感性分析\\敏感性-J.txt', 'w') as f:\n",
    "    np.savetxt(f, save_arr, fmt=\"%s\", delimiter=\"    \")"
   ]
  },
  {
   "cell_type": "code",
   "execution_count": 50,
   "id": "5df4b34d",
   "metadata": {},
   "outputs": [
    {
     "name": "stdout",
     "output_type": "stream",
     "text": [
      "0.11833333333333335\n"
     ]
    }
   ],
   "source": [
    "data = pandas.read_table(r\"D:\\工作需\\R程序计算\\R程序翻译\\井坐标文件\\注井坐标C13.txt\", sep=\"\\\\s+\").values.tolist()\n",
    "In_wel=np.array(data)\n",
    "case_num=get_file_names(dir_path_K)#改路径\n",
    "save_arr=np.empty((30,2),dtype='U100')\n",
    "sisum=0\n",
    "for i in range(30):\n",
    "    wel_V=read_txt_file(case_num[i])\n",
    "    Si=cal_si(wel_V)\n",
    "    sisum+=float(Si)\n",
    "    save_arr[i,0]=In_wel[2*i,-1]\n",
    "    save_arr[i,1]=Si\n",
    "print(sisum/30)\n",
    "with open(r'D:\\工作需\\R程序计算\\R程序翻译\\单目标敏感性分析\\敏感性-K.txt', 'w') as f:\n",
    "    np.savetxt(f, save_arr, fmt=\"%s\", delimiter=\"    \")"
   ]
  },
  {
   "cell_type": "code",
   "execution_count": 51,
   "id": "a38c317c",
   "metadata": {},
   "outputs": [
    {
     "name": "stdout",
     "output_type": "stream",
     "text": [
      "0.15083333333333337\n"
     ]
    }
   ],
   "source": [
    "data = pandas.read_table(r\"D:\\工作需\\R程序计算\\R程序翻译\\井坐标文件\\注井坐标C13.txt\", sep=\"\\\\s+\").values.tolist()\n",
    "In_wel=np.array(data)\n",
    "case_num=get_file_names(dir_path_I)#改路径\n",
    "save_arr=np.empty((30,2),dtype='U100')\n",
    "sisum=0\n",
    "for i in range(30):\n",
    "    wel_V=read_txt_file(case_num[i])\n",
    "    Si=cal_si(wel_V)\n",
    "    sisum+=float(Si)\n",
    "    save_arr[i,0]=In_wel[2*i,-1]\n",
    "    save_arr[i,1]=Si\n",
    "print(sisum/30)\n",
    "with open(r'D:\\工作需\\R程序计算\\R程序翻译\\单目标敏感性分析\\敏感性-I.txt', 'w') as f:\n",
    "    np.savetxt(f, save_arr, fmt=\"%s\", delimiter=\"    \")"
   ]
  },
  {
   "cell_type": "code",
   "execution_count": null,
   "id": "8071a6c5",
   "metadata": {},
   "outputs": [],
   "source": []
  }
 ],
 "metadata": {
  "kernelspec": {
   "display_name": "Python 3 (ipykernel)",
   "language": "python",
   "name": "python3"
  },
  "language_info": {
   "codemirror_mode": {
    "name": "ipython",
    "version": 3
   },
   "file_extension": ".py",
   "mimetype": "text/x-python",
   "name": "python",
   "nbconvert_exporter": "python",
   "pygments_lexer": "ipython3",
   "version": "3.9.2"
  }
 },
 "nbformat": 4,
 "nbformat_minor": 5
}
